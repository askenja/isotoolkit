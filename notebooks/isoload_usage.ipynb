{
 "cells": [
  {
   "cell_type": "code",
   "execution_count": null,
   "id": "a086e64a",
   "metadata": {},
   "outputs": [],
   "source": [
    "import numpy as np\n",
    "\n",
    "from isotoolkit.loadfuncs import BastiForm, MistForm, ParsecForm, configure_browser\n"
   ]
  },
  {
   "cell_type": "code",
   "execution_count": null,
   "id": "8a87a2d0",
   "metadata": {},
   "outputs": [],
   "source": [
    "f = np.loadtxt(\"metgrid_linFeH.txt\")\n",
    "Z, FeH = f[:,0], f[:,1]\n",
    " \n",
    "agemin, agemax, dage = 0.05, 13.0, 0.05 # Gyr"
   ]
  },
  {
   "cell_type": "code",
   "execution_count": null,
   "id": "407365df",
   "metadata": {},
   "outputs": [],
   "source": [
    "dir_out = \"./parsec_update/GEDR3_\"\n",
    "\n",
    "browser = configure_browser(dir_out)\n",
    "\n",
    "retriever = ParsecForm(browser,\n",
    "                     dir_out=dir_out,\n",
    "                     FeH=FeH,\n",
    "                     agemin=agemin, \n",
    "                     agemax=agemax, \n",
    "                     dage=dage,\n",
    "                     photometry=\"Gaia EDR3 (all Vegamags, Gaia passbands from ESA/Gaia website)\"\n",
    "                    )\n",
    "retriever.run()"
   ]
  },
  {
   "cell_type": "code",
   "execution_count": null,
   "id": "aba5531e",
   "metadata": {},
   "outputs": [],
   "source": [
    "dir_out = \"./basti_update/GDR3_\"\n",
    "\n",
    "browser = configure_browser(dir_out)\n",
    "\n",
    "retriever = BastiForm(browser,\n",
    "                      dir_out=dir_out,\n",
    "                      FeH=FeH[68:],\n",
    "                      agemin=agemin, \n",
    "                      agemax=agemax, \n",
    "                      dage=dage,\n",
    "                      photometry='GAIA-DR3',\n",
    "                      alpha='solar-scaled',\n",
    "                      grid='P00O1D0E1Y247',\n",
    "                      n_lim=100\n",
    "                      )\n",
    "retriever.run()\n",
    "\n",
    "# for metal-rich > +0.34 'P00O1D0E1Y247' - grid without diffusion"
   ]
  },
  {
   "cell_type": "code",
   "execution_count": null,
   "id": "8412dc08",
   "metadata": {},
   "outputs": [],
   "source": [
    "dir_out = \"./mist_update/test\"\n",
    "\n",
    "browser = configure_browser(dir_out)\n",
    "\n",
    "retriever = MistForm(browser,\n",
    "                     dir_out=dir_out,\n",
    "                     FeH=FeH[30],\n",
    "                     agemin=agemin, \n",
    "                     agemax=agemax, \n",
    "                     dage=dage,\n",
    "                     photometry='UBVRIplus',\n",
    "                     n_lim=55\n",
    "                    )\n",
    "retriever.run()"
   ]
  },
  {
   "cell_type": "code",
   "execution_count": null,
   "id": "c46d4a3a",
   "metadata": {},
   "outputs": [],
   "source": []
  }
 ],
 "metadata": {
  "kernelspec": {
   "display_name": "env01",
   "language": "python",
   "name": "python3"
  },
  "language_info": {
   "codemirror_mode": {
    "name": "ipython",
    "version": 3
   },
   "file_extension": ".py",
   "mimetype": "text/x-python",
   "name": "python",
   "nbconvert_exporter": "python",
   "pygments_lexer": "ipython3",
   "version": "3.13.5"
  }
 },
 "nbformat": 4,
 "nbformat_minor": 5
}
