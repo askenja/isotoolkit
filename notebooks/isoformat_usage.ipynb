{
 "cells": [
  {
   "cell_type": "code",
   "execution_count": null,
   "id": "372b400a",
   "metadata": {},
   "outputs": [],
   "source": [
    "import numpy as np\n",
    "from isotoolkit.formatfuncs import ParsecIsochroneFormatter, MistIsochroneFormatter, BastiIsochroneFormatter"
   ]
  },
  {
   "cell_type": "code",
   "execution_count": null,
   "id": "943c0259",
   "metadata": {},
   "outputs": [],
   "source": [
    "agemin, agemax, dage = 0.05, 13.0, 0.05 # Gyr\n",
    "age_grid = np.arange(agemin, agemax + dage, dage)"
   ]
  },
  {
   "cell_type": "code",
   "execution_count": null,
   "id": "f5469869",
   "metadata": {},
   "outputs": [],
   "source": [
    "input_base_path = './parsec_update'\n",
    "output_base_path = './parsec_update_formatted2'\n",
    "\n",
    "formatter = ParsecIsochroneFormatter(input_base_path, \n",
    "                                     output_base_path, \n",
    "                                     age_grid,\n",
    "                                     phot_dirs=['UBVRIJHK:UBVRIJHK','GDR3:GDR3'],\n",
    "                                     separate_astro=True\n",
    "                                     )\n",
    "#formatter.print_column_info()\n",
    "formatter.run()"
   ]
  },
  {
   "cell_type": "code",
   "execution_count": null,
   "id": "7afdf998",
   "metadata": {},
   "outputs": [],
   "source": [
    "input_base_path = './mist_update'\n",
    "output_base_path = './mist_update_formatted2'\n",
    "\n",
    "formatter = MistIsochroneFormatter(input_base_path, \n",
    "                                   output_base_path, \n",
    "                                   age_grid,\n",
    "                                   phot_dirs=['UBVRIplus:UBVRIJHK+GDR3'],\n",
    "                                   separate_astro=False\n",
    "                                   )\n",
    "formatter.run()"
   ]
  },
  {
   "cell_type": "code",
   "execution_count": null,
   "id": "a86a6f2f",
   "metadata": {},
   "outputs": [],
   "source": [
    "input_base_path = './basti_update'\n",
    "output_base_path = './basti_update_formatted2'\n",
    "\n",
    "formatter = BastiIsochroneFormatter(input_base_path, \n",
    "                                    output_base_path, \n",
    "                                    age_grid,\n",
    "                                    ['UBVRIJHK:UBVRIJHK','GDR3:GDR3'],\n",
    "                                    separate_astro=False\n",
    "                                    )\n",
    "formatter.run()"
   ]
  },
  {
   "cell_type": "markdown",
   "id": "b99ff9bc",
   "metadata": {},
   "source": [
    "## Target output\n",
    "\n",
    "Stellar evolution library with 3 subfolders: \n",
    "1. astrophysical parameters like logg, logL, Teff, ... \n",
    "2. Johnson-Cousins (JC) photometry \n",
    "3. Gaia DR3 (GDR3) photometry\n",
    "\n",
    "For a robust cross-match, each row in isochrones in folders 1-3 has an id. \n",
    "\n",
    "## Input and tasks\n",
    "\n",
    "### PARSEC \n",
    "\n",
    "#### Input format\n",
    "- two folders - GDR3 and JC photometry\n",
    "- each folder with photometry contains subfolders for different metallicities\n",
    "- each metallicity folder has only one file with isochrone table for different ages\n",
    "\n",
    "#### To do\n",
    "\n",
    "For each single-feh isochrone\n",
    "- remove header and add standardized column names \n",
    "- remove last line '#isochrone terminated'\n",
    "- remove last line with data, contains wrong values\n",
    "- split isochrone into single-age tables \n",
    "- \n",
    "For each single-age isochrone\n",
    "- sort all records by mass\n",
    "- select only important columns \n",
    "- sort columns into subfolders 1-3 (split into 3 tables + add id column to each of new tables)\n",
    "\n",
    "\n",
    "### MIST \n",
    "\n",
    "#### Input format\n",
    "- one folder with JC and GDR3 photometry \n",
    "- this photometry folder contains subfolders for different metallicities\n",
    "- each metallicity folder has five isochrone tables for different age ranges\n",
    "\n",
    "#### To do\n",
    "\n",
    "For each single-feh isochrone\n",
    "- remove header and add standardized column names \n",
    "- remove intermediate commented lines\n",
    "- split isochrone into single-age tables\n",
    "- \n",
    "For each single-age isochrone\n",
    "- take only important columns\n",
    "- sort columns into subfolders 1-3\n",
    "\n",
    "\n",
    "### BaSTI\n",
    "\n",
    "#### Input format\n",
    "- two folders with GDR3 and JC photometry\n",
    "- each folder with photometry contains folders for different metallicities\n",
    "- each metallicity folder has many single-age isochrone tables\n",
    "\n",
    "#### To do\n",
    "\n",
    "For each single-age isochrone\n",
    "- rename each file according to its age and remove age column\n",
    "- remove headers and add standardized column names \n",
    "- take only important columns \n",
    "- sort columns into subfolders 1-3"
   ]
  },
  {
   "cell_type": "markdown",
   "id": "e0cde7f6",
   "metadata": {},
   "source": []
  }
 ],
 "metadata": {
  "kernelspec": {
   "display_name": "env01",
   "language": "python",
   "name": "python3"
  },
  "language_info": {
   "codemirror_mode": {
    "name": "ipython",
    "version": 3
   },
   "file_extension": ".py",
   "mimetype": "text/x-python",
   "name": "python",
   "nbconvert_exporter": "python",
   "pygments_lexer": "ipython3",
   "version": "3.13.5"
  }
 },
 "nbformat": 4,
 "nbformat_minor": 5
}
